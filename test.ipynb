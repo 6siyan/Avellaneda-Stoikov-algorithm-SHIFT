{
 "cells": [
  {
   "cell_type": "code",
   "execution_count": 15,
   "metadata": {},
   "outputs": [
    {
     "name": "stdout",
     "output_type": "stream",
     "text": [
      "0.04000000000000001\n",
      "0.019990006661668464\n",
      "0.029995003330834234\n"
     ]
    }
   ],
   "source": [
    "import math\n",
    "sigma = 2\n",
    "gamma = 0.1\n",
    "k = 100\n",
    "T_t =0.1\n",
    "\n",
    "spread = gamma * sigma**2 * (T_t) +  (2 / gamma) * math.log(1 + (gamma / k))\n",
    "print(gamma * sigma**2 * (T_t))\n",
    "print( (2 / gamma) * math.log(1 + (gamma / k)))\n",
    "spread /= 2\n",
    "print(spread)\n"
   ]
  },
  {
   "cell_type": "code",
   "execution_count": null,
   "metadata": {},
   "outputs": [],
   "source": []
  }
 ],
 "metadata": {
  "kernelspec": {
   "display_name": "Python 3",
   "language": "python",
   "name": "python3"
  },
  "language_info": {
   "codemirror_mode": {
    "name": "ipython",
    "version": 3
   },
   "file_extension": ".py",
   "mimetype": "text/x-python",
   "name": "python",
   "nbconvert_exporter": "python",
   "pygments_lexer": "ipython3",
   "version": "3.9.6"
  },
  "orig_nbformat": 4
 },
 "nbformat": 4,
 "nbformat_minor": 2
}
